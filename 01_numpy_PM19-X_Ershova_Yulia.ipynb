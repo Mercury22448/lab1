{
 "cells": [
  {
   "cell_type": "markdown",
   "metadata": {},
   "source": [
    "# Numpy"
   ]
  },
  {
   "cell_type": "markdown",
   "metadata": {},
   "source": [
    "Материалы:\n",
    "* Макрушин С.В. \"Лекция 1: Библиотека Numpy\"\n",
    "* https://numpy.org/doc/stable/user/index.html\n",
    "* https://numpy.org/doc/stable/reference/index.html"
   ]
  },
  {
   "cell_type": "markdown",
   "metadata": {},
   "source": [
    "## Задачи для совместного разбора"
   ]
  },
  {
   "cell_type": "markdown",
   "metadata": {},
   "source": [
    "1. Сгенерировать двухмерный массив `arr` размерности (4, 7), состоящий из случайных действительных чисел, равномерно распределенных в диапазоне от 0 до 20. Нормализовать значения массива с помощью преобразования вида  $𝑎𝑥+𝑏$  так, что после нормализации максимальный элемент масcива будет равен 1.0, минимальный 0.0"
   ]
  },
  {
   "cell_type": "code",
   "execution_count": 1,
   "metadata": {},
   "outputs": [],
   "source": [
    "import numpy as np"
   ]
  },
  {
   "cell_type": "code",
   "execution_count": 2,
   "metadata": {},
   "outputs": [
    {
     "data": {
      "text/plain": [
       "array([[1.        , 0.22222222, 0.61111111, 0.94444444, 0.27777778,\n",
       "        0.61111111, 0.22222222],\n",
       "       [0.94444444, 0.33333333, 0.88888889, 0.72222222, 0.77777778,\n",
       "        1.        , 1.        ],\n",
       "       [0.61111111, 0.33333333, 0.44444444, 0.16666667, 0.22222222,\n",
       "        0.44444444, 0.94444444],\n",
       "       [0.83333333, 0.72222222, 0.55555556, 0.11111111, 0.38888889,\n",
       "        0.        , 0.27777778]])"
      ]
     },
     "execution_count": 2,
     "metadata": {},
     "output_type": "execute_result"
    }
   ],
   "source": [
    "x = np.random.randint(0, 20, size = (4, 7))\n",
    "(x - x.min()) / (x.max() - x.min())"
   ]
  },
  {
   "cell_type": "markdown",
   "metadata": {},
   "source": [
    "2. Создать матрицу 8 на 10 из случайных целых (используя модуль `numpy.random`) чисел из диапозона от 0 до 10 и найти в ней строку (ее индекс и вывести саму строку), в которой сумма значений минимальна."
   ]
  },
  {
   "cell_type": "code",
   "execution_count": 3,
   "metadata": {},
   "outputs": [
    {
     "name": "stdout",
     "output_type": "stream",
     "text": [
      "[[6 8 3 3 1 6 2 1 5 7]\n",
      " [0 5 7 3 3 8 9 7 7 4]\n",
      " [9 8 4 8 4 4 5 0 2 7]\n",
      " [6 9 4 4 7 5 4 0 5 7]\n",
      " [6 6 5 2 2 0 5 2 2 5]\n",
      " [8 6 0 8 1 3 8 3 1 6]\n",
      " [1 0 4 2 2 7 7 3 1 6]\n",
      " [5 5 5 4 2 4 7 7 8 7]]\n",
      "[42 53 51 51 35 44 33 54]\n"
     ]
    },
    {
     "data": {
      "text/plain": [
       "6"
      ]
     },
     "execution_count": 3,
     "metadata": {},
     "output_type": "execute_result"
    }
   ],
   "source": [
    "a = np.random.randint(0, 10, size = (8, 10))\n",
    "print(a)\n",
    "b = np.sum(a, axis=1)\n",
    "print(b)\n",
    "np.argmin(b)"
   ]
  },
  {
   "cell_type": "markdown",
   "metadata": {},
   "source": [
    "3. Найти евклидово расстояние между двумя одномерными векторами одинаковой размерности."
   ]
  },
  {
   "cell_type": "code",
   "execution_count": null,
   "metadata": {},
   "outputs": [],
   "source": []
  },
  {
   "cell_type": "markdown",
   "metadata": {},
   "source": [
    "4. Решить матричное уравнение `A*X*B=-C` - найти матрицу `X`. Где `A = [[-1, 2, 4], [-3, 1, 2], [-3, 0, 1]]`, `B=[[3, -1], [2, 1]]`, `C=[[7, 21], [11, 8], [8, 4]]`."
   ]
  },
  {
   "cell_type": "code",
   "execution_count": null,
   "metadata": {},
   "outputs": [],
   "source": []
  },
  {
   "cell_type": "markdown",
   "metadata": {},
   "source": [
    "## Лабораторная работа №1"
   ]
  },
  {
   "cell_type": "markdown",
   "metadata": {},
   "source": [
    "Замечание: при решении данных задач не подразумевается использования циклов или генераторов Python, если в задании не сказано обратного. Решение должно опираться на использования функционала библиотеки `numpy`."
   ]
  },
  {
   "cell_type": "markdown",
   "metadata": {},
   "source": [
    "1. Файл `minutes_n_ingredients.csv` содержит информацию об идентификаторе рецепта, времени его выполнения в минутах и количестве необходимых ингредиентов. Считайте данные из этого файла в виде массива `numpy` типа `int32`, используя `np.loadtxt`. Выведите на экран первые 5 строк массива."
   ]
  },
  {
   "cell_type": "code",
   "execution_count": 4,
   "metadata": {},
   "outputs": [],
   "source": [
    "import numpy as np\n",
    "import random"
   ]
  },
  {
   "cell_type": "code",
   "execution_count": 5,
   "metadata": {},
   "outputs": [
    {
     "name": "stdout",
     "output_type": "stream",
     "text": [
      "[[127244     60     16]\n",
      " [ 23891     25      7]\n",
      " [ 94746     10      6]\n",
      " [ 67660      5      6]\n",
      " [157911     60     14]]\n"
     ]
    }
   ],
   "source": [
    "arr = np.loadtxt(r'C:\\Users\\iyuli\\OneDrive\\Рабочий стол\\ФИНАШКА\\Технологии обработки данных\\Тема 1\\minutes_n_ingredients.csv', dtype=int, delimiter= ',', skiprows=1)\n",
    "print(arr[:5, :])"
   ]
  },
  {
   "cell_type": "code",
   "execution_count": 6,
   "metadata": {},
   "outputs": [
    {
     "name": "stdout",
     "output_type": "stream",
     "text": [
      "[[127244     60     16]\n",
      " [ 23891     25      7]\n",
      " [ 94746     10      6]\n",
      " ...\n",
      " [498432     65     15]\n",
      " [370915      5      4]\n",
      " [ 81993    140     14]]\n"
     ]
    }
   ],
   "source": [
    "print(arr)"
   ]
  },
  {
   "cell_type": "code",
   "execution_count": 7,
   "metadata": {},
   "outputs": [
    {
     "data": {
      "text/plain": [
       "100000"
      ]
     },
     "execution_count": 7,
     "metadata": {},
     "output_type": "execute_result"
    }
   ],
   "source": [
    "len(arr)"
   ]
  },
  {
   "cell_type": "markdown",
   "metadata": {},
   "source": [
    "2.Вычислите среднее значение, минимум, максимум и медиану по каждому из столбцов, кроме первого."
   ]
  },
  {
   "cell_type": "code",
   "execution_count": 8,
   "metadata": {},
   "outputs": [
    {
     "name": "stdout",
     "output_type": "stream",
     "text": [
      "21601.00169\n",
      "0\n",
      "2147483647\n",
      "40.0\n"
     ]
    }
   ],
   "source": [
    "print(np.mean(arr[:, 1]), np.min(arr[:, 1]), np.max(arr[:, 1]), np.median(arr[:, 1]), sep='\\n')"
   ]
  },
  {
   "cell_type": "code",
   "execution_count": 9,
   "metadata": {},
   "outputs": [
    {
     "name": "stdout",
     "output_type": "stream",
     "text": [
      "9.05528\n",
      "1\n",
      "39\n",
      "9.0\n"
     ]
    }
   ],
   "source": [
    "print(np.mean(arr[:, 2]), np.min(arr[:, 2]), np.max(arr[:, 2]), np.median(arr[:, 2]), sep='\\n')"
   ]
  },
  {
   "cell_type": "markdown",
   "metadata": {},
   "source": [
    "3. Ограничьте сверху значения продолжительности выполнения рецепта значением квантиля $q_{0.75}$. "
   ]
  },
  {
   "cell_type": "code",
   "execution_count": 10,
   "metadata": {},
   "outputs": [
    {
     "name": "stdout",
     "output_type": "stream",
     "text": [
      "65\n",
      "[[127244     60     16]\n",
      " [ 23891     25      7]\n",
      " [ 94746     10      6]\n",
      " ...\n",
      " [498432     65     15]\n",
      " [370915      5      4]\n",
      " [ 81993     65     14]]\n"
     ]
    }
   ],
   "source": [
    "quantile_value = int(np.quantile(arr[:, 1], 0.75))\n",
    "print(quantile_value)\n",
    "#arr[:, 1] = np.where(arr[:, 1] <= quantile_value, arr[:, 1], quantile_value)\n",
    "arr[:, 1] = arr[:, 1].clip(max=quantile_value)\n",
    "print(arr)"
   ]
  },
  {
   "cell_type": "markdown",
   "metadata": {},
   "source": [
    "4. Посчитайте, для скольких рецептов указана продолжительность, равная нулю. Замените для таких строк значение в данном столбце на 1."
   ]
  },
  {
   "cell_type": "code",
   "execution_count": 11,
   "metadata": {},
   "outputs": [
    {
     "name": "stdout",
     "output_type": "stream",
     "text": [
      "Количество рецептов, у которых продолжительность равна 0 = 479\n"
     ]
    }
   ],
   "source": [
    "print(f'Количество рецептов, у которых продолжительность равна 0 = {np.count_nonzero(arr[:, 1] == 0)}')\n",
    "arr[:, 1] = np.where(arr[:, 1] != 0, arr[:, 1], 1)"
   ]
  },
  {
   "cell_type": "markdown",
   "metadata": {},
   "source": [
    "5. Посчитайте, сколько уникальных рецептов находится в датасете."
   ]
  },
  {
   "cell_type": "code",
   "execution_count": 12,
   "metadata": {},
   "outputs": [
    {
     "data": {
      "text/plain": [
       "'\\nunique, counts = np.unique(arr[:, 0], return_counts=True)\\nfor i in range(len(unique)):\\n    print(unique[i], counts[i])\\n'"
      ]
     },
     "execution_count": 12,
     "metadata": {},
     "output_type": "execute_result"
    }
   ],
   "source": [
    "'''\n",
    "unique, counts = np.unique(arr[:, 0], return_counts=True)\n",
    "for i in range(len(unique)):\n",
    "    print(unique[i], counts[i])\n",
    "'''"
   ]
  },
  {
   "cell_type": "code",
   "execution_count": 13,
   "metadata": {},
   "outputs": [
    {
     "data": {
      "text/plain": [
       "100000"
      ]
     },
     "execution_count": 13,
     "metadata": {},
     "output_type": "execute_result"
    }
   ],
   "source": [
    "len(np.unique(arr[:, 0]))"
   ]
  },
  {
   "cell_type": "code",
   "execution_count": 14,
   "metadata": {},
   "outputs": [],
   "source": [
    "#np.unique(arr[:, 0])"
   ]
  },
  {
   "cell_type": "markdown",
   "metadata": {},
   "source": [
    "6. Сколько и каких различных значений кол-ва ингредиентов присутвует в рецептах из датасета?"
   ]
  },
  {
   "cell_type": "code",
   "execution_count": 15,
   "metadata": {},
   "outputs": [
    {
     "name": "stdout",
     "output_type": "stream",
     "text": [
      "1 13\n",
      "2 926\n",
      "3 2895\n",
      "4 5515\n",
      "5 7913\n",
      "6 9376\n",
      "7 10628\n",
      "8 10951\n",
      "9 10585\n",
      "10 9591\n",
      "11 8297\n",
      "12 6605\n",
      "13 4997\n",
      "14 3663\n",
      "15 2595\n",
      "16 1767\n",
      "17 1246\n",
      "18 790\n",
      "19 573\n",
      "20 376\n",
      "21 217\n",
      "22 161\n",
      "23 105\n",
      "24 69\n",
      "25 50\n",
      "26 28\n",
      "27 16\n",
      "28 16\n",
      "29 12\n",
      "30 12\n",
      "31 3\n",
      "32 1\n",
      "33 2\n",
      "34 1\n",
      "35 3\n",
      "37 1\n",
      "39 1\n"
     ]
    }
   ],
   "source": [
    "unique, counts = np.unique(arr[:, 2], return_counts=True)\n",
    "for i in range(len(unique)):\n",
    "    print(unique[i], counts[i])"
   ]
  },
  {
   "cell_type": "code",
   "execution_count": 16,
   "metadata": {},
   "outputs": [
    {
     "data": {
      "text/plain": [
       "37"
      ]
     },
     "execution_count": 16,
     "metadata": {},
     "output_type": "execute_result"
    }
   ],
   "source": [
    "len(np.unique(arr[:, 2]))"
   ]
  },
  {
   "cell_type": "markdown",
   "metadata": {},
   "source": [
    "7. Создайте версию массива, содержащую информацию только о рецептах, состоящих не более чем из 5 ингредиентов."
   ]
  },
  {
   "cell_type": "code",
   "execution_count": 17,
   "metadata": {},
   "outputs": [
    {
     "name": "stdout",
     "output_type": "stream",
     "text": [
      "[[446597     15      5]\n",
      " [204134      5      3]\n",
      " [ 25623      6      4]\n",
      " ...\n",
      " [ 52088     60      5]\n",
      " [128811     15      4]\n",
      " [370915      5      4]]\n"
     ]
    },
    {
     "data": {
      "text/plain": [
       "17262"
      ]
     },
     "execution_count": 17,
     "metadata": {},
     "output_type": "execute_result"
    }
   ],
   "source": [
    "arr_5 = arr[arr[:, 2] <=5]\n",
    "print(arr_5)\n",
    "len(arr_5)"
   ]
  },
  {
   "cell_type": "markdown",
   "metadata": {},
   "source": [
    "8. Для каждого рецепта посчитайте, сколько в среднем ингредиентов приходится на одну минуту рецепта. Найдите максимальное значение этой величины для всего датасета"
   ]
  },
  {
   "cell_type": "code",
   "execution_count": 18,
   "metadata": {},
   "outputs": [
    {
     "name": "stdout",
     "output_type": "stream",
     "text": [
      "[0.26666667 0.28       0.6        ... 0.23076923 0.8        0.21538462]\n"
     ]
    }
   ],
   "source": [
    "average = arr[:, 2] / arr[:, 1]\n",
    "print(average)"
   ]
  },
  {
   "cell_type": "code",
   "execution_count": 19,
   "metadata": {},
   "outputs": [
    {
     "data": {
      "text/plain": [
       "24.0"
      ]
     },
     "execution_count": 19,
     "metadata": {},
     "output_type": "execute_result"
    }
   ],
   "source": [
    "np.max(average)"
   ]
  },
  {
   "cell_type": "markdown",
   "metadata": {},
   "source": [
    "9. Вычислите среднее количество ингредиентов для топ-100 рецептов с наибольшей продолжительностью"
   ]
  },
  {
   "cell_type": "code",
   "execution_count": 20,
   "metadata": {},
   "outputs": [
    {
     "name": "stdout",
     "output_type": "stream",
     "text": [
      "[[81993    65    14]\n",
      " [78310    65    12]\n",
      " [60218    65    14]\n",
      " ...\n",
      " [ 3492     1     7]\n",
      " [ 6975     1     8]\n",
      " [ 4896     1    14]]\n",
      "9.96\n"
     ]
    }
   ],
   "source": [
    "arr_sort = arr[arr[:, 1].argsort()][::-1]\n",
    "print(arr_sort)\n",
    "print(np.mean(arr_sort[:100, 2]))"
   ]
  },
  {
   "cell_type": "markdown",
   "metadata": {},
   "source": [
    "10. Выберите случайным образом и выведите информацию о 10 различных рецептах"
   ]
  },
  {
   "cell_type": "code",
   "execution_count": 21,
   "metadata": {},
   "outputs": [
    {
     "name": "stdout",
     "output_type": "stream",
     "text": [
      "[[328260     65      8]\n",
      " [524623     65     20]\n",
      " [  7159     25      8]\n",
      " [104162     65      7]\n",
      " [ 80243     65      9]\n",
      " [195343     20     15]\n",
      " [ 45603      5      6]\n",
      " [190570     55     16]\n",
      " [104445     30      7]\n",
      " [ 36617     15      3]]\n"
     ]
    }
   ],
   "source": [
    "list_index = []\n",
    "while len(list_index) < 10:\n",
    "    i = random.randint(0, len(arr)-1)\n",
    "    if i not in list_index:\n",
    "        list_index.append(i)\n",
    "\n",
    "print(arr[list_index, :])"
   ]
  },
  {
   "cell_type": "markdown",
   "metadata": {},
   "source": [
    "11. Выведите процент рецептов, кол-во ингредиентов в которых меньше среднего."
   ]
  },
  {
   "cell_type": "code",
   "execution_count": 22,
   "metadata": {},
   "outputs": [
    {
     "name": "stdout",
     "output_type": "stream",
     "text": [
      "9.05528\n",
      "58802\n",
      "58.802\n"
     ]
    }
   ],
   "source": [
    "mean = np.mean(arr[:, 2])\n",
    "print(mean)\n",
    "k = len(arr[arr[:, 2] <= mean])\n",
    "print(k)\n",
    "print(k / len(arr) * 100)"
   ]
  },
  {
   "cell_type": "markdown",
   "metadata": {},
   "source": [
    "12. Назовем \"простым\" такой рецепт, длительность выполнения которого не больше 20 минут и кол-во ингредиентов в котором не больше 5. Создайте версию датасета с дополнительным столбцом, значениями которого являются 1, если рецепт простой, и 0 в противном случае."
   ]
  },
  {
   "cell_type": "code",
   "execution_count": 23,
   "metadata": {},
   "outputs": [
    {
     "name": "stdout",
     "output_type": "stream",
     "text": [
      "[[127244     60     16      0]\n",
      " [ 23891     25      7      0]\n",
      " [ 94746     10      6      0]\n",
      " ...\n",
      " [498432     65     15      0]\n",
      " [370915      5      4      1]\n",
      " [ 81993     65     14      0]]\n"
     ]
    }
   ],
   "source": [
    "arr_add = arr\n",
    "dop_col = np.zeros(len(arr)).astype(int)\n",
    "arr_add = np.c_[arr_add, dop_col]\n",
    "arr_add[:, 3] = np.where((arr_add[:, 2] <=5) & (arr_add[:, 1] <= 20), 1, 0)\n",
    "print(arr_add)"
   ]
  },
  {
   "cell_type": "markdown",
   "metadata": {},
   "source": [
    "13. Выведите процент \"простых\" рецептов в датасете"
   ]
  },
  {
   "cell_type": "code",
   "execution_count": 24,
   "metadata": {},
   "outputs": [
    {
     "name": "stdout",
     "output_type": "stream",
     "text": [
      "9552\n",
      "9.552\n"
     ]
    }
   ],
   "source": [
    "k = len(arr_add[arr_add[:, 3] == 1])\n",
    "print(k)\n",
    "print(k / len(arr) * 100)"
   ]
  },
  {
   "cell_type": "markdown",
   "metadata": {},
   "source": [
    "14. Разделим рецепты на группы по следующему правилу. Назовем рецепты короткими, если их продолжительность составляет менее 10 минут; стандартными, если их продолжительность составляет более 10, но менее 20 минут; и длинными, если их продолжительность составляет не менее 20 минут. Создайте трехмерный массив, где нулевая ось отвечает за номер группы (короткий, стандартный или длинный рецепт), первая ось - за сам рецепт и вторая ось - за характеристики рецепта. Выберите максимальное количество рецептов из каждой группы таким образом, чтобы было возможно сформировать трехмерный массив. Выведите форму полученного массива."
   ]
  },
  {
   "cell_type": "code",
   "execution_count": 25,
   "metadata": {},
   "outputs": [
    {
     "data": {
      "text/plain": [
       "'\\n#0 - короткие, 1 - от 10 до 20, 2 - от 20\\narr_add = arr\\ndop_col = np.zeros(len(arr)).astype(int)\\narr_add = np.c_[arr_add, dop_col]\\narr_add[:, 3] = np.where((arr_add[:, 1] >= 10) & (arr_add[:, 1] < 20), 1, 0)\\narr_add[:, 3] = np.where(arr_add[:, 1] >= 20, 2, arr_add[:, 3])\\nprint(arr_add)\\n'"
      ]
     },
     "execution_count": 25,
     "metadata": {},
     "output_type": "execute_result"
    }
   ],
   "source": [
    "'''\n",
    "#0 - короткие, 1 - от 10 до 20, 2 - от 20\n",
    "arr_add = arr\n",
    "dop_col = np.zeros(len(arr)).astype(int)\n",
    "arr_add = np.c_[arr_add, dop_col]\n",
    "arr_add[:, 3] = np.where((arr_add[:, 1] >= 10) & (arr_add[:, 1] < 20), 1, 0)\n",
    "arr_add[:, 3] = np.where(arr_add[:, 1] >= 20, 2, arr_add[:, 3])\n",
    "print(arr_add)\n",
    "'''"
   ]
  },
  {
   "cell_type": "code",
   "execution_count": 26,
   "metadata": {},
   "outputs": [
    {
     "name": "stdout",
     "output_type": "stream",
     "text": [
      "[[127244     60     16      0      2]\n",
      " [ 23891     25      7      0      2]\n",
      " [ 94746     10      6      0      1]\n",
      " ...\n",
      " [498432     65     15      0      2]\n",
      " [370915      5      4      1      0]\n",
      " [ 81993     65     14      0      2]]\n"
     ]
    }
   ],
   "source": [
    "#0 - короткие, 1 - от 10 до 20, 2 - от 2\n",
    "arr_add = np.c_[arr_add, dop_col]\n",
    "arr_add[:, 4] = np.where((arr_add[:, 1] >= 10) & (arr_add[:, 1] < 20), 1, 0)\n",
    "arr_add[:, 4] = np.where(arr_add[:, 1] >= 20, 2, arr_add[:, 4])\n",
    "print(arr_add)"
   ]
  },
  {
   "cell_type": "code",
   "execution_count": 27,
   "metadata": {},
   "outputs": [
    {
     "name": "stdout",
     "output_type": "stream",
     "text": [
      "[[     2 127244      0]\n",
      " [     2  23891      0]\n",
      " [     1  94746      0]\n",
      " ...\n",
      " [     2 498432      0]\n",
      " [     0 370915      1]\n",
      " [     2  81993      0]]\n"
     ]
    }
   ],
   "source": [
    "result = arr_add[:, [4, 0, 3]]\n",
    "print(result)"
   ]
  },
  {
   "cell_type": "code",
   "execution_count": 28,
   "metadata": {},
   "outputs": [
    {
     "data": {
      "text/plain": [
       "7588"
      ]
     },
     "execution_count": 28,
     "metadata": {},
     "output_type": "execute_result"
    }
   ],
   "source": [
    "len(result[result[:, 0] == 0])"
   ]
  },
  {
   "cell_type": "code",
   "execution_count": 29,
   "metadata": {},
   "outputs": [
    {
     "data": {
      "text/plain": [
       "12661"
      ]
     },
     "execution_count": 29,
     "metadata": {},
     "output_type": "execute_result"
    }
   ],
   "source": [
    "len(result[result[:, 0] == 1])"
   ]
  },
  {
   "cell_type": "code",
   "execution_count": 30,
   "metadata": {},
   "outputs": [
    {
     "data": {
      "text/plain": [
       "79751"
      ]
     },
     "execution_count": 30,
     "metadata": {},
     "output_type": "execute_result"
    }
   ],
   "source": [
    "len(result[result[:, 0] == 2])"
   ]
  },
  {
   "cell_type": "code",
   "execution_count": null,
   "metadata": {},
   "outputs": [],
   "source": []
  }
 ],
 "metadata": {
  "kernelspec": {
   "display_name": "Python 3 (ipykernel)",
   "language": "python",
   "name": "python3"
  },
  "language_info": {
   "codemirror_mode": {
    "name": "ipython",
    "version": 3
   },
   "file_extension": ".py",
   "mimetype": "text/x-python",
   "name": "python",
   "nbconvert_exporter": "python",
   "pygments_lexer": "ipython3",
   "version": "3.9.10"
  }
 },
 "nbformat": 4,
 "nbformat_minor": 4
}
